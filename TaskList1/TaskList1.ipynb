{
 "cells": [
  {
   "cell_type": "markdown",
   "metadata": {},
   "source": [
    "# Lista 1\n",
    "\n",
    "## Kurs wybranego języka programowania (Python)\n",
    "\n",
    "Wszystkie rozwiązania proszę wpisać w tym notatniku poniżej treści zadań. Zadania z `*` to zadania dodatkowe."
   ]
  },
  {
   "cell_type": "markdown",
   "metadata": {},
   "source": [
    "## Zadanie 1 _(5pt)_\n",
    "\n",
    "Napisz funkcję, który wyświetla trójkąt Pascala o zadanej wysokości\n",
    "```\n",
    "                1\n",
    "              1   1\n",
    "            1   2   1\n",
    "          1   3   3   1\n",
    "        1   4   6   4   1\n",
    "      .....................\n",
    "```"
   ]
  },
  {
   "cell_type": "code",
   "execution_count": 1,
   "metadata": {},
   "outputs": [
    {
     "name": "stdout",
     "output_type": "stream",
     "text": [
      "     1\n",
      "    1 1\n",
      "   1 2 1\n",
      "  1 3 3 1\n",
      " 1 4 6 4 1\n"
     ]
    }
   ],
   "source": [
    "def pascal_triangle(n):\n",
    "    row, y, prePrint = [1], [0], []\n",
    "    for _ in range(n):\n",
    "        prePrint += [row]\n",
    "        row = [r+l for r, l in zip(row+y, y+row)]\n",
    "    return prePrint\n",
    "\n",
    "def pyramid(p):\n",
    "    offset = len(p[-1])-1\n",
    "    for a in p:\n",
    "        print(' ' * offset, ' '.join([str(s) for s in a]))\n",
    "        offset -= 1\n",
    "\n",
    "pyramid(pascal_triangle(5))"
   ]
  },
  {
   "cell_type": "markdown",
   "metadata": {},
   "source": [
    "## Zadanie 2 _(5pt)_\n",
    "\n",
    "Napisz funkcję `primes(n)` zwracająca listę liczb pierwszych nie większych niż $n$ np.\n",
    "\n",
    "```\n",
    "In [ ]:   primes(6)\n",
    "Out [ ]: [2, 3, 5]\n",
    "```"
   ]
  },
  {
   "cell_type": "code",
   "execution_count": 2,
   "metadata": {},
   "outputs": [
    {
     "name": "stdout",
     "output_type": "stream",
     "text": [
      "[2, 3, 5]\n"
     ]
    }
   ],
   "source": [
    "def primes(n):\n",
    "    # Range starts with 3 and only needs to go up the squareroot of n (for all odd numbers)\n",
    "    primelist = lambda n : [x for x in range(2, n) if not 0 in map(lambda z : x % z, range(2, int(x**0.5+1)))]\n",
    "    print(primelist(n))\n",
    "primes(6)"
   ]
  },
  {
   "cell_type": "markdown",
   "metadata": {},
   "source": [
    "## Zadanie 3 _(5pt)_\n",
    "\n",
    "Napisz funkcje, która usuwa wszystkie powtarzające się elementy z listy (tak, że każdy element występuje tylko raz) np. z listy `[1,1,2,2,2,3,3,5,5,5,4,4,4,0]` dostajemy `[1,2,3,5,4,0]`."
   ]
  },
  {
   "cell_type": "code",
   "execution_count": 3,
   "metadata": {},
   "outputs": [
    {
     "name": "stdout",
     "output_type": "stream",
     "text": [
      "[1, 2, 3, 5, 4, 0]\n"
     ]
    }
   ],
   "source": [
    "def unique(l):\n",
    "    seen = set()\n",
    "    return [x for x in l if not (x in seen or seen.add(x))]\n",
    "l = [1,1,2,2,2,3,3,5,5,5,4,4,4,0]\n",
    "print(unique(l))"
   ]
  },
  {
   "cell_type": "markdown",
   "metadata": {},
   "source": [
    "## Zadanie 4 _(10pt)_\n",
    "\n",
    "Napisz funkcję `prime_factors(n)`, która rozkłada $n$ na czynniki pierwsze i jako wynik wraca listę par $[(p_1,\\alpha_1), (p_2,\\alpha_2), \\ldots, (p_k, \\alpha_k)]$ taką, że $p_1^{\\alpha_1}p_2^{\\alpha_2}\\ldots p_k^{\\alpha_k}$.\n"
   ]
  },
  {
   "cell_type": "code",
   "execution_count": 4,
   "metadata": {},
   "outputs": [
    {
     "name": "stdout",
     "output_type": "stream",
     "text": [
      "[(2, 3), (3, 2), (5, 1)]\n"
     ]
    }
   ],
   "source": [
    "from collections import Counter\n",
    "def prime_factors(n):\n",
    "    if n == 1: return []\n",
    "    i, factors = 2, []\n",
    "    while i * i <= n:\n",
    "        if n % i:\n",
    "            i += 1\n",
    "        else:\n",
    "            n //= i\n",
    "            factors.append(i)\n",
    "    factors.append(n)\n",
    "    return Counter(factors).most_common()\n",
    "print(prime_factors(360))"
   ]
  },
  {
   "cell_type": "markdown",
   "metadata": {},
   "source": [
    "## Zadanie 5 _(10pt)_\n",
    "\n",
    "Napisz funkcję `fraczero(n)` liczącą silnie $n!$ dla $n$ od $0$ do $10000$ oraz jako wynik wraca liczbę zer na końcu $n!$."
   ]
  },
  {
   "cell_type": "code",
   "execution_count": 5,
   "metadata": {},
   "outputs": [
    {
     "name": "stdout",
     "output_type": "stream",
     "text": [
      "2\n"
     ]
    }
   ],
   "source": [
    "# Trailing zero is formed when a multiple of 5 is multiplied with a multiple of 2\n",
    "# keep in mind that there are more twos than fives (always), so we just count 5's\n",
    "def fraczero(n):\n",
    "    if n not in range(0, 10000):\n",
    "        return \"N outside of range (0, 10000)\"\n",
    "    zeros = 0\n",
    "    while n > 0:\n",
    "        n //= 5\n",
    "        zeros += n\n",
    "    return zeros\n",
    "print(fraczero(12)) # 12! == 479001600 -> answ: 2 "
   ]
  },
  {
   "cell_type": "markdown",
   "metadata": {},
   "source": [
    "## Zadanie 6 _(10pt)_\n",
    "\n",
    "Napisz program, który generuje liczbę $20$ liczb losowych (rozkład jednostajny) od $1$ do $100$\n",
    "* Wyświetl listę wygenerowanych liczb\n",
    "* Wyświetl średnią\n",
    "* Wyświetl największą i najmniejszą wartość\n",
    "* Wyświetl drugą największą i drugą najmniejszą wartość na liście\n",
    "* Wyświetl ile jest liczb parzystych na liście\n",
    " "
   ]
  },
  {
   "cell_type": "code",
   "execution_count": 6,
   "metadata": {},
   "outputs": [
    {
     "name": "stdout",
     "output_type": "stream",
     "text": [
      "Numbers:  [66, 18, 78, 61, 98, 96, 70, 14, 55, 97, 8, 81, 52, 5, 13, 61, 30, 23, 71, 8]\n",
      "Average:  50.25\n",
      "Even Nums:  11\n",
      "1st Min/Max:  5 / 98\n",
      "2nd Min/Max:  8 / 97\n"
     ]
    }
   ],
   "source": [
    "import random\n",
    "nums = [random.randint(1,100) for _ in range(20)]\n",
    "print(\"Numbers: \", nums)\n",
    "print(\"Average: \", sum(nums)/len(nums))\n",
    "print(\"Even Nums: \", sum([1 for x in nums if not x % 2]))\n",
    "print(\"1st Min/Max: \", min(nums), \"/\", max(nums))\n",
    "print(\"2nd Min/Max: \", sorted(nums)[1], \"/\", sorted(nums, reverse = True)[1])"
   ]
  },
  {
   "cell_type": "markdown",
   "metadata": {},
   "source": [
    "## Zadanie 7 _(10pt)_\n",
    "\n",
    "Załóżmy, że mamy następującą listę: `L = ['aababacaa', 'cabaabcca', 'aaabbcbacb', 'acababbaab', ...]` wygenerowaną losowo tzn. lista zawiera losowe ciągi znaków o zadanej długości z liter `'a'`, `'b'` i `'c'`. Takie wzorce występują w wielu miejscach np. sekwencje DNA. Użytkownik zawiera swój (wzorzec) ciąg znaków z literami i pustymi miejscami oznaczonymi przez `'*'` np. `\"a**a******\"`. Wykorzystaj słownik z kluczami zawierającymi indeksy znaków różnych od `'*'` i wartościami liter z wzorca. Napisz program, który znajduje wszystkie sekwencje z listy, które pasuje do podanego wzorca."
   ]
  },
  {
   "cell_type": "code",
   "execution_count": 7,
   "metadata": {},
   "outputs": [
    {
     "name": "stdout",
     "output_type": "stream",
     "text": [
      "['aababacaa', 'abbacbcbcb']\n"
     ]
    }
   ],
   "source": [
    "def match(p, d):\n",
    "    # Dict {index : letter}\n",
    "    idxLetter = {idx: letter for idx, letter in enumerate(p) if letter != \"*\"}\n",
    "    # True if all letters from created dict match string from data \n",
    "    return [letterData for letterData in d if all(letterData[i] == letterPattern for i, letterPattern in idxLetter.items())]\n",
    "\n",
    "pattern = \"a**a******\"\n",
    "data = ['aababacaa', 'cabaabcca', 'aaabbcbacb', 'acababbaab', 'abbacbcbcb']\n",
    "print(match(pattern, data))"
   ]
  },
  {
   "cell_type": "markdown",
   "metadata": {},
   "source": [
    "## Zadanie 8 _(10pt)_\n",
    "\n",
    "Napisz program, który konwerteruje liczby rzymskie na liczby arabskie. Do zapisu liczb rzymskich używa\n",
    "się 7 liter: `I=1`, `V=5`, `X=10`, `L=50`, `C=100`, `D=500`, `M=1000`. Opis algorytmu zamiany z i na system rzymski można znaleźć np. [tutaj](http://www.algorytm.org/algorytmy-arytmetyczne/zamiana-z-i-na-system-rzymski.html)"
   ]
  },
  {
   "cell_type": "code",
   "execution_count": 9,
   "metadata": {},
   "outputs": [
    {
     "name": "stdout",
     "output_type": "stream",
     "text": [
      "2077\n"
     ]
    }
   ],
   "source": [
    "rom = {'I': 1, 'V': 5, 'X': 10, 'L': 50, 'C': 100, 'D': 500, 'M': 1000}\n",
    "def r_to_a(r):\n",
    "    # Start with number equal to first roman letter\n",
    "    a = rom[r[0]]\n",
    "    for i in range(1, len(r)):\n",
    "        # Check if current letter is a subtraction from another (like in IV = 4, where I subtracts from V)\n",
    "        if rom[r[i]] > rom[r[i - 1]]:\n",
    "            a += rom[r[i]] - 2 * rom[r[i - 1]]\n",
    "        else:\n",
    "            a += rom[r[i]]\n",
    "    return a\n",
    "print(r_to_a('MMLXXVII')) # Cyberpunk"
   ]
  },
  {
   "cell_type": "markdown",
   "metadata": {},
   "source": [
    "## Zadanie 9* _(5pt)_\n",
    "\n",
    "Napisz program kalkulator, który pobiera wprowadzone wartości oraz funkcje z klawiatury następnie podaje wynik. W przypadku błędnych danych zgłasza błąd.\n",
    "\n",
    "Przykładowa sesja:\n",
    "```\n",
    "    Kalkulator\n",
    "    [1]: 2+5*10\n",
    "        52\n",
    "    [2]: sin(0.5)+cos(0.3)\n",
    "        1.434762027729809\n",
    "    [3]: 2^100\n",
    "        1267650600228229401496703205376\n",
    "```\n",
    "\n",
    "Przykładowy kod pobierania danych od użytkownika:\n",
    "\n",
    "```\n",
    "    x = input('Podaj x = ')\n",
    "```"
   ]
  },
  {
   "cell_type": "code",
   "execution_count": 11,
   "metadata": {},
   "outputs": [
    {
     "name": "stdout",
     "output_type": "stream",
     "text": [
      "Podaj x = log10(100)\n",
      "2.0\n"
     ]
    }
   ],
   "source": [
    "from math import *\n",
    "x = input('Podaj x = ')\n",
    "try:\n",
    "    print(eval(x))\n",
    "except Exception as ex:\n",
    "    print(ex)"
   ]
  },
  {
   "cell_type": "markdown",
   "metadata": {},
   "source": [
    "\n",
    "## Zadanie 10* _(10pt)_\n",
    "\n",
    "Napisz program, który rysuje na ekranie w trybie znakowym wykres funkcji zmiennej $x$. Wskazówka: utwórz  ,,tablicę dwuwymiarową'' o wymiarach 80x24 i narysuj wykres w tej tablicy. Następnie wynik wyświetl na ekranie.\n",
    "\n",
    "```\n",
    "        Podaj funkcje f(x) = sin(x)\n",
    "        Podaj początek przedziału a = -pi\n",
    "        Podaj koniec przedziału b = pi\n",
    "                                                |\n",
    "                                                |\n",
    "                                                |              ***********\n",
    "                                                |           ***           ***\n",
    "                                                |         **                 **\n",
    "                                                |        *                     *\n",
    "                                                |      **                       **\n",
    "                                                |     *                           *\n",
    "                                                |   **                             **\n",
    "                                                |  *                                 *\n",
    "                                                | *                                   *\n",
    "                                                |*                                     *\n",
    "        ----------------------------------------|---------------------------------------\n",
    "          *                                   * |\n",
    "           *                                 *  |\n",
    "            **                             **   |\n",
    "              *                           *     |\n",
    "               **                       **      |\n",
    "                 *                     *        |\n",
    "                  **                 **         |\n",
    "                    ***           ***           |\n",
    "                       ***** *****              |\n",
    "                            *                   |\n",
    "                                                |\n",
    "```"
   ]
  },
  {
   "cell_type": "code",
   "execution_count": 12,
   "metadata": {},
   "outputs": [
    {
     "name": "stdout",
     "output_type": "stream",
     "text": [
      "Podaj funkcje f(x) = sin(x)\n",
      "Podaj początek przedziału a = -pi\n",
      "Podaj koniec przedziału b = pi\n",
      "0.99830 |                                       ......           \n",
      "        |                                     ..      ..         \n",
      "        |                                   ..          ..       \n",
      "        |                                  /              \\      \n",
      "        |                                 /                \\     \n",
      "        |                                /                  \\    \n",
      "        |                               /                    \\   \n",
      "        |                              /                      \\  \n",
      "0.05872 | ----------------------------/------------------------\\-\n",
      "        | ..                        ..                          \\\n",
      "        |   \\                      /                             \n",
      "        |    \\                    /                              \n",
      "        |     \\                  /                               \n",
      "        |      \\                /                                \n",
      "        |       \\              /                                 \n",
      "        |        ..          ..                                  \n",
      "        |          ..      ..                                    \n",
      "-0.9983 |            ......                                      \n",
      "          -3.14159                   0                          3.14159\n"
     ]
    }
   ],
   "source": [
    "from sympy import sympify\n",
    "from sympy.plotting import textplot\n",
    "f = sympify(input('Podaj funkcje f(x) = '))\n",
    "a = sympify(input('Podaj początek przedziału a = '))\n",
    "b = sympify(input('Podaj koniec przedziału b = '))\n",
    "textplot(f, a, b)   # ex: sin(x), -pi, pi"
   ]
  },
  {
   "cell_type": "code",
   "execution_count": null,
   "metadata": {},
   "outputs": [],
   "source": []
  }
 ],
 "metadata": {
  "kernelspec": {
   "display_name": "Python 3",
   "language": "python",
   "name": "python3"
  },
  "language_info": {
   "codemirror_mode": {
    "name": "ipython",
    "version": 3
   },
   "file_extension": ".py",
   "mimetype": "text/x-python",
   "name": "python",
   "nbconvert_exporter": "python",
   "pygments_lexer": "ipython3",
   "version": "3.8.0"
  }
 },
 "nbformat": 4,
 "nbformat_minor": 2
}
