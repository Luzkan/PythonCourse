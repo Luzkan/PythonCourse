{
  "nbformat": 4,
  "nbformat_minor": 0,
  "metadata": {
    "colab": {
      "name": "Copy of Copy of TaskList #7 Task #2.ipynb",
      "provenance": [],
      "collapsed_sections": []
    },
    "kernelspec": {
      "name": "python3",
      "display_name": "Python 3"
    }
  },
  "cells": [
    {
      "cell_type": "markdown",
      "metadata": {
        "id": "dAkCJip-VI1L",
        "colab_type": "text"
      },
      "source": [
        "\n",
        "\n",
        "# **Task #2**\n",
        "\n",
        "Basically - scan object and box out detected stuff.\n",
        "\n"
      ]
    },
    {
      "cell_type": "code",
      "metadata": {
        "id": "96hgZMqiVRW2",
        "colab_type": "code",
        "colab": {}
      },
      "source": [
        "%pip install -q git+https://github.com/fizyr/keras-retinanet"
      ],
      "execution_count": 0,
      "outputs": []
    },
    {
      "cell_type": "code",
      "metadata": {
        "id": "3zNV5H6Ex00V",
        "colab_type": "code",
        "colab": {}
      },
      "source": [
        "# Show images inline\n",
        "%matplotlib inline\n",
        "\n",
        "# Automatically reload modules when they have changed\n",
        "%load_ext autoreload\n",
        "%autoreload 2\n",
        "\n",
        "# Import Keras\n",
        "import keras\n",
        "\n",
        "# Import KerasRetinaNet\n",
        "from keras_retinanet import models\n",
        "from keras_retinanet.utils.image import read_image_bgr, preprocess_image, resize_image\n",
        "from keras_retinanet.utils.visualization import draw_box, draw_caption\n",
        "from keras_retinanet.utils.colors import label_color\n",
        "from keras_retinanet.utils.gpu import setup_gpu\n",
        "from PIL import Image\n",
        "\n",
        "# Import Miscellaneous Modules\n",
        "import matplotlib.pyplot as plt\n",
        "import cv2\n",
        "import os\n",
        "import numpy as np\n",
        "import time\n",
        "\n",
        "# Latest Release model\n",
        "URL_MODEL = 'https://github.com/fizyr/keras-retinanet/releases/download/0.5.1/resnet50_coco_best_v2.1.0.h5'\n",
        "\n",
        "# use this to change which GPU to use\n",
        "gpu = 0\n",
        "\n",
        "# set the modified tf session as backend in keras\n",
        "setup_gpu(gpu)\n",
        "\n",
        "# models can be downloaded here: https://github.com/fizyr/keras-retinanet/releases\n",
        "model = models.load_model('resnet50_coco_best_v2.1.0.h5', backbone_name='resnet50')\n",
        "\n",
        "# load label to names mapping for visualization purposes\n",
        "labels_to_names = {0: 'person', 1: 'bicycle', 2: 'car', 3: 'motorcycle', 4: 'airplane', 5: 'bus', 6: 'train', 7: 'truck', 8: 'boat', 9: 'traffic light', 10: 'fire hydrant', 11: 'stop sign', 12: 'parking meter', 13: 'bench', 14: 'bird', 15: 'cat', 16: 'dog', 17: 'horse', 18: 'sheep', 19: 'cow', 20: 'elephant', 21: 'bear', 22: 'zebra', 23: 'giraffe', 24: 'backpack', 25: 'umbrella', 26: 'handbag', 27: 'tie', 28: 'suitcase', 29: 'frisbee', 30: 'skis', 31: 'snowboard', 32: 'sports ball', 33: 'kite', 34: 'baseball bat', 35: 'baseball glove', 36: 'skateboard', 37: 'surfboard', 38: 'tennis racket', 39: 'bottle', 40: 'wine glass', 41: 'cup', 42: 'fork', 43: 'knife', 44: 'spoon', 45: 'bowl', 46: 'banana', 47: 'apple', 48: 'sandwich', 49: 'orange', 50: 'broccoli', 51: 'carrot', 52: 'hot dog', 53: 'pizza', 54: 'donut', 55: 'cake', 56: 'chair', 57: 'couch', 58: 'potted plant', 59: 'bed', 60: 'dining table', 61: 'toilet', 62: 'tv', 63: 'laptop', 64: 'mouse', 65: 'remote', 66: 'keyboard', 67: 'cell phone', 68: 'microwave', 69: 'oven', 70: 'toaster', 71: 'sink', 72: 'refrigerator', 73: 'book', 74: 'clock', 75: 'vase', 76: 'scissors', 77: 'teddy bear', 78: 'hair drier', 79: 'toothbrush'}\n",
        "\n",
        "# Get Images from Path /my_images/\n",
        "PATH_TO_TEST_IMAGES_DIR = pathlib.Path('my_images')\n",
        "TEST_IMAGE_PATHS = sorted(list(PATH_TO_TEST_IMAGES_DIR.glob(\"*.jpg\")))\n",
        "TEST_IMAGE_PATHS\n",
        "\n",
        "# Execute on all Images in given path\n",
        "def exec_image(image_path):\n",
        "  show_inference(detection_model, image_path)\n",
        "  image = read_image_bgr(image_path)\n",
        "\n",
        "  # copy to draw on\n",
        "  draw = image.copy()\n",
        "  draw = cv2.cvtColor(draw, cv2.COLOR_BGR2RGB)\n",
        "\n",
        "  # preprocess image for network\n",
        "  image = preprocess_image(image)\n",
        "  image, scale = resize_image(image)\n",
        "\n",
        "  # process image\n",
        "  start = time.time()\n",
        "  boxes, scores, labels = model.predict_on_batch(np.expand_dims(image, axis=0))\n",
        "  print(\"processing time: \", time.time() - start)\n",
        "\n",
        "  # correct for image scale\n",
        "  boxes /= scale\n",
        "\n",
        "  # visualize detections\n",
        "  for box, score, label in zip(boxes[0], scores[0], labels[0]):\n",
        "      # scores are sorted so we can break\n",
        "      if score < 0.5:\n",
        "          break\n",
        "          \n",
        "      color = label_color(label)\n",
        "      \n",
        "      b = box.astype(int)\n",
        "      draw_box(draw, b, color=color)\n",
        "      \n",
        "      caption = \"{} {:.3f}\".format(labels_to_names[label], score)\n",
        "      draw_caption(draw, b, caption)\n",
        "      \n",
        "  plt.figure(figsize=(15, 15))\n",
        "  plt.axis('off')\n",
        "  plt.imshow(draw)\n",
        "  plt.show()"
      ],
      "execution_count": 0,
      "outputs": []
    },
    {
      "cell_type": "code",
      "metadata": {
        "id": "_NZzNjN3x7Tr",
        "colab_type": "code",
        "colab": {}
      },
      "source": [
        "for image_path in TEST_IMAGE_PATHS:\n",
        "  exec_image(image_path)"
      ],
      "execution_count": 0,
      "outputs": []
    },
    {
      "cell_type": "markdown",
      "metadata": {
        "id": "aI8S_Q0x1DkF",
        "colab_type": "text"
      },
      "source": [
        "**Camera**\n",
        "\n",
        "*in case of testing in jupyter notebook on chrome, skip this one block*"
      ]
    },
    {
      "cell_type": "code",
      "metadata": {
        "id": "rnwsaY5t0_jx",
        "colab_type": "code",
        "colab": {}
      },
      "source": [
        "# CV2 Camera\n",
        "\n",
        "import cv2\n",
        "from keras_retinanet.utils.image import read_image_bgr\n",
        "import matplotlib.pyplot as plt\n",
        "\n",
        "def grab_camera_snapshot(camera_id=0, fallback_filename='photo.jpg'):\n",
        "    camera = cv2.VideoCapture(camera_id)\n",
        "    print(camera.read())\n",
        "    try:\n",
        "        # bierzemy 15 klatek w praktyce dostajemy lepsze zdjęcia, bo\n",
        "        # kamera lepiej dobierze kontrast i światło w ostatniej klatce\n",
        "        for i in range(15):\n",
        "            snapshot_ok, image = camera.read()\n",
        "        if not snapshot_ok:\n",
        "            print(\"Ups: could not access camera\")\n",
        "            if fallback_filename:\n",
        "                image = read_image_bgr(fallback_filename)\n",
        "    finally:\n",
        "        camera.release()\n",
        "\n",
        "    exec_image('photo.jpg')\n",
        "    return image"
      ],
      "execution_count": 0,
      "outputs": []
    },
    {
      "cell_type": "code",
      "metadata": {
        "id": "Yvna-5aKRhjv",
        "colab_type": "code",
        "colab": {}
      },
      "source": [
        "grab_camera_snapshot()"
      ],
      "execution_count": 0,
      "outputs": []
    },
    {
      "cell_type": "markdown",
      "metadata": {
        "id": "hsPGRqrpQRMP",
        "colab_type": "text"
      },
      "source": [
        "**Launching Camera in Jupyter Notebook**"
      ]
    },
    {
      "cell_type": "code",
      "metadata": {
        "id": "a_xQkCO3PjtU",
        "colab_type": "code",
        "colab": {}
      },
      "source": [
        "from IPython.display import display, Javascript\n",
        "from google.colab.output import eval_js\n",
        "from base64 import b64decode\n",
        "\n",
        "def take_photo(filename='photo.jpg', quality=0.8):\n",
        "  js = Javascript('''\n",
        "    async function takePhoto(quality) {\n",
        "      const div = document.createElement('div');\n",
        "      const capture = document.createElement('button');\n",
        "      capture.textContent = 'Capture';\n",
        "      div.appendChild(capture);\n",
        "\n",
        "      const video = document.createElement('video');\n",
        "      video.style.display = 'block';\n",
        "      const stream = await navigator.mediaDevices.getUserMedia({video: true});\n",
        "\n",
        "      document.body.appendChild(div);\n",
        "      div.appendChild(video);\n",
        "      video.srcObject = stream;\n",
        "      await video.play();\n",
        "\n",
        "      // Resize the output to fit the video element.\n",
        "      google.colab.output.setIframeHeight(document.documentElement.scrollHeight, true);\n",
        "\n",
        "      // Wait for Capture to be clicked.\n",
        "      await new Promise((resolve) => capture.onclick = resolve);\n",
        "\n",
        "      const canvas = document.createElement('canvas');\n",
        "      canvas.width = video.videoWidth;\n",
        "      canvas.height = video.videoHeight;\n",
        "      canvas.getContext('2d').drawImage(video, 0, 0);\n",
        "      stream.getVideoTracks()[0].stop();\n",
        "      div.remove();\n",
        "      return canvas.toDataURL('image/jpeg', quality);\n",
        "    }\n",
        "    ''')\n",
        "  display(js)\n",
        "  data = eval_js('takePhoto({})'.format(quality))\n",
        "  binary = b64decode(data.split(',')[1])\n",
        "  with open(filename, 'wb') as f:\n",
        "    f.write(binary)\n",
        "  return filename"
      ],
      "execution_count": 0,
      "outputs": []
    },
    {
      "cell_type": "code",
      "metadata": {
        "id": "TV294XomQJyi",
        "colab_type": "code",
        "colab": {}
      },
      "source": [
        "from IPython.display import Image\n",
        "try:\n",
        "  filename = take_photo()\n",
        "  print('Saved to {}'.format(filename))\n",
        "  display(Image(filename))\n",
        "  exec_image('photo.jpg')\n",
        "except Exception as err:\n",
        "  print(str(err))"
      ],
      "execution_count": 0,
      "outputs": []
    },
    {
      "cell_type": "code",
      "metadata": {
        "id": "w39IP9aFTUv6",
        "colab_type": "code",
        "colab": {}
      },
      "source": [
        "from PIL import Image\n",
        "exec_image('photo.jpg')"
      ],
      "execution_count": 0,
      "outputs": []
    }
  ]
}