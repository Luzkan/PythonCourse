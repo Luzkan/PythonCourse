{
  "nbformat": 4,
  "nbformat_minor": 0,
  "metadata": {
    "colab": {
      "name": "TaskList #7 Task #1.ipynb",
      "provenance": [],
      "collapsed_sections": [],
      "toc_visible": true
    },
    "kernelspec": {
      "name": "python3",
      "display_name": "Python 3"
    }
  },
  "cells": [
    {
      "cell_type": "markdown",
      "metadata": {
        "id": "zR5I4HMXGC2-",
        "colab_type": "text"
      },
      "source": [
        "# Task #1 \n",
        "\n",
        "Play (experiment) with Keras/TensorFlow and Task 2. from previous Tasklist."
      ]
    },
    {
      "cell_type": "markdown",
      "metadata": {
        "id": "jWX2r1_uGJL-",
        "colab_type": "text"
      },
      "source": [
        "## Imports"
      ]
    },
    {
      "cell_type": "code",
      "metadata": {
        "id": "aVz7DxiQGCkj",
        "colab_type": "code",
        "colab": {
          "base_uri": "https://localhost:8080/",
          "height": 34
        },
        "outputId": "5f60955c-3a0f-4c0a-a491-80d4291fca46"
      },
      "source": [
        "# Imports\n",
        "import numpy as np\n",
        "from keras.models import Sequential\n",
        "from keras.layers import Dense\n",
        "from tensorflow.keras import optimizers\n",
        "import matplotlib.pyplot as plt\n",
        "\n",
        "# Printing Outputs\n",
        "def draw_graphs(x_in, x_out, y, predictions, func_def):\n",
        "  plt.subplot(2, 1, 1)\n",
        "  plt.scatter(x_in, y, s = 1)\n",
        "  plt.title(f'y = {func_def}')\n",
        "  plt.xlabel('x')\n",
        "  plt.ylabel('Real y')\n",
        "\n",
        "  plt.subplot(2, 1, 2)\n",
        "  plt.scatter(x_out, predictions, s = 1)\n",
        "  plt.xlabel('x')\n",
        "  plt.ylabel('Approximated y')\n",
        "\n",
        "  plt.show()\n",
        "\n",
        "# Compiling the Model and Fit\n",
        "def compile_fit_print(model, opti, x_in, x_out, y, func_name, verb=0):\n",
        "  model.compile(optimizer=opti, loss='mean_squared_error')\n",
        "  model.fit(x_in, y, epochs=100, batch_size=10000, verbose=verb)\n",
        "  predictions = model.predict(x_out)\n",
        "  draw_graphs(x_in, x_out, y, predictions, func_name)\n",
        "\n",
        "# Data\n",
        "# x^2\n",
        "x_1_in = np.linspace(-50,50,26)\n",
        "x_1_out = np.linspace(-50,50,101)\n",
        "y_1 = np.linspace(-1, 1, 26) ** 2\n",
        "\n",
        "# sin((3*pi/2) * x)\n",
        "x_2_in = np.linspace(0, 2, 21)\n",
        "x_2_out = np.linspace(0, 2, 161)\n",
        "y_2 = np.sin((3 * np.pi / 2) * np.linspace(0, 2, 21))\n"
      ],
      "execution_count": 2,
      "outputs": [
        {
          "output_type": "stream",
          "text": [
            "Using TensorFlow backend.\n"
          ],
          "name": "stderr"
        }
      ]
    },
    {
      "cell_type": "markdown",
      "metadata": {
        "id": "A1NFi65SF9dH",
        "colab_type": "text"
      },
      "source": [
        "## Testing various stuff for first function (X^2)\n",
        "\n",
        "*i'll keep comments in the first test, it's similiar everywhere else*"
      ]
    },
    {
      "cell_type": "code",
      "metadata": {
        "id": "if7jM9c6BKO4",
        "colab_type": "code",
        "colab": {}
      },
      "source": [
        "# Standard from previous list\n",
        "def test_1_0(x_in, x_out, y, verb=0):\n",
        "  # Load training data (they are passsed in param)\n",
        "\n",
        "  # Define model\n",
        "  model = Sequential()\n",
        "\n",
        "  # Choosing an Optimizer\n",
        "  optimizer = optimizers.Adam(lr=0.1)\n",
        "\n",
        "  # Adding Hidden Layers\n",
        "  model.add(Dense(10, input_dim=1, activation='sigmoid'))\n",
        "  model.add(Dense(1))\n",
        "\n",
        "  # Compile & Fit, getting predictions\n",
        "  compile_fit_print(model, optimizer, x_in, x_out, y, \"x^2\", verb)\n",
        "\n",
        "# Different optimizer\n",
        "def test_1_1(x_in, x_out, y, verb=0):\n",
        "  model = Sequential()\n",
        "  optimizer = optimizers.SGD(lr=0.1, momentum=0.9, nesterov=True)\n",
        "  model.add(Dense(10, input_dim=1, activation='sigmoid'))\n",
        "  model.add(Dense(1))\n",
        "  compile_fit_print(model, optimizer, x_in, x_out, y, \"x^2\", verb)\n",
        "\n",
        "# Standard from previous list\n",
        "def test_2_0(x_in, x_out, y, verb=0):\n",
        "  model = Sequential()\n",
        "  optimizer = optimizers.Adam(lr=0.1)\n",
        "  model.add(Dense(10, input_dim=1, activation='tanh'))\n",
        "  model.add(Dense(1))\n",
        "  compile_fit_print(model, optimizer, x_in, x_out, y, \"sin\", verb)\n",
        "\n",
        "# Adding lot's of layers\n",
        "def test_2_1(x_in, x_out, y, verb=0):\n",
        "  model = Sequential()\n",
        "  optimizer = optimizers.Adam(lr=0.1)\n",
        "  model.add(Dense(10, input_dim=1, activation='tanh'))\n",
        "  model.add(Dense(8, input_dim=1, activation='tanh'))\n",
        "  model.add(Dense(6, input_dim=1, activation='tanh'))\n",
        "  model.add(Dense(4, input_dim=1, activation='tanh'))\n",
        "  model.add(Dense(1))\n",
        "  compile_fit_print(model, optimizer, x_in, x_out, y, \"sin\", verb)\n",
        "\n",
        "# Adding lot's of neurons\n",
        "def test_2_2(x_in, x_out, y, verb=0):\n",
        "  model = Sequential()\n",
        "  optimizer = optimizers.Adam(lr=0.1)\n",
        "  model.add(Dense(150, input_dim=1, activation='tanh'))\n",
        "  model.add(Dense(1))\n",
        "  compile_fit_print(model, optimizer, x_in, x_out, y, \"sin\", verb)"
      ],
      "execution_count": 0,
      "outputs": []
    },
    {
      "cell_type": "code",
      "metadata": {
        "id": "S2lLn3uSSFfX",
        "colab_type": "code",
        "colab": {}
      },
      "source": [
        "test_1_0(x_1_in, x_1_out, y_1, 0)\n",
        "test_1_1(x_1_in, x_1_out, y_1, 0)\n",
        "test_2_0(x_2_in, x_2_out, y_2, 0)\n",
        "test_2_1(x_2_in, x_2_out, y_2, 0)\n",
        "test_2_2(x_2_in, x_2_out, y_2, 0)"
      ],
      "execution_count": 0,
      "outputs": []
    }
  ]
}