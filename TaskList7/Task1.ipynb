{
  "nbformat": 4,
  "nbformat_minor": 0,
  "metadata": {
    "colab": {
      "name": "TaskList #7 Task #1.ipynb",
      "provenance": [],
      "collapsed_sections": [],
      "toc_visible": true
    },
    "kernelspec": {
      "name": "python3",
      "display_name": "Python 3"
    }
  },
  "cells": [
    {
      "cell_type": "markdown",
      "metadata": {
        "id": "zR5I4HMXGC2-",
        "colab_type": "text"
      },
      "source": [
        "# Task #1 \n",
        "\n",
        "Play (experiment) with keras/tensorflow and task 2. from previous list."
      ]
    },
    {
      "cell_type": "markdown",
      "metadata": {
        "id": "jWX2r1_uGJL-",
        "colab_type": "text"
      },
      "source": [
        "## Imports"
      ]
    },
    {
      "cell_type": "code",
      "metadata": {
        "id": "aVz7DxiQGCkj",
        "colab_type": "code",
        "colab": {}
      },
      "source": [
        "# Imports\n",
        "import numpy as np\n",
        "from keras.models import Sequential\n",
        "from keras.layers import Dense\n",
        "from tensorflow.keras import optimizers\n",
        "import matplotlib.pyplot as plt"
      ],
      "execution_count": 0,
      "outputs": []
    },
    {
      "cell_type": "markdown",
      "metadata": {
        "id": "R8-EUVLHGj_Z",
        "colab_type": "text"
      },
      "source": [
        "## Printing Outputs"
      ]
    },
    {
      "cell_type": "code",
      "metadata": {
        "id": "KNYGohneGoI_",
        "colab_type": "code",
        "colab": {}
      },
      "source": [
        "def draw_graphs(x_in, x_out, y, predictions, func_def):\n",
        "  plt.subplot(2, 1, 1)\n",
        "  plt.scatter(x_in, y, s = 1)\n",
        "  plt.title(f'y = {func_def}')\n",
        "  plt.xlabel('x')\n",
        "  plt.ylabel('Real y')\n",
        "\n",
        "  plt.subplot(2, 1, 2)\n",
        "  plt.scatter(x_out, predictions, s = 1)\n",
        "  plt.xlabel('x')\n",
        "  plt.ylabel('Approximated y')\n",
        "\n",
        "  plt.show()"
      ],
      "execution_count": 0,
      "outputs": []
    },
    {
      "cell_type": "markdown",
      "metadata": {
        "id": "DzmRv_yTIZAs",
        "colab_type": "text"
      },
      "source": [
        "# Compile and Fit"
      ]
    },
    {
      "cell_type": "code",
      "metadata": {
        "id": "VIx-ggohIbtb",
        "colab_type": "code",
        "colab": {}
      },
      "source": [
        "def compile_fit_print(model, opti, x_in, x_out, y, verb=0):\n",
        "  model.compile(optimizer=opti, loss='mean_squared_error')\n",
        "  model.fit(x_in, y, epochs=100, batch_size=10000, verbose=verb)\n",
        "  predictions = model.predict(x_out)\n",
        "  draw_graphs(x_in, x_out, y, predictions, \"x^2\")"
      ],
      "execution_count": 0,
      "outputs": []
    },
    {
      "cell_type": "markdown",
      "metadata": {
        "id": "A1NFi65SF9dH",
        "colab_type": "text"
      },
      "source": [
        "## Testing various stuff for first function (X^2)\n",
        "\n",
        "*i'll keep comments in the first test, it's similiar everywhere else*"
      ]
    },
    {
      "cell_type": "code",
      "metadata": {
        "id": "4n2sZe_IIu7V",
        "colab_type": "code",
        "colab": {}
      },
      "source": [
        "# Data\n",
        "x_1_in = np.linspace(-50,50,26)\n",
        "x_1_out = np.linspace(-50,50,101)\n",
        "y_1 = np.linspace(-1, 1, 26) ** 2"
      ],
      "execution_count": 0,
      "outputs": []
    },
    {
      "cell_type": "code",
      "metadata": {
        "id": "if7jM9c6BKO4",
        "colab_type": "code",
        "colab": {
          "base_uri": "https://localhost:8080/",
          "height": 295
        },
        "outputId": "6c6b7223-2af4-4139-85d7-55a6a98e56d2"
      },
      "source": [
        "# Standard from previous list\n",
        "def test_1_0(x_in, x_out, y, verb=0):\n",
        "  # Load training data (they are passsed in param)\n",
        "\n",
        "  # Define model\n",
        "  model = Sequential()\n",
        "\n",
        "  # Choosing an Optimizer\n",
        "  optimizer = optimizers.Adam(lr=0.1)\n",
        "\n",
        "  # Adding Hidden Layers\n",
        "  model.add(Dense(10, input_dim=1, activation='sigmoid'))\n",
        "  model.add(Dense(1))\n",
        "\n",
        "  # Compile & Fit, getting predictions\n",
        "  compile_fit_print(model, optimizer, x_in, x_out, y, verb)\n",
        "\n",
        "test_1_0(x_1_in, x_1_out, y_1, 0)"
      ],
      "execution_count": 166,
      "outputs": [
        {
          "output_type": "display_data",
          "data": {
            "image/png": "[encoded data removed]",
            "text/plain": [
              "<Figure size 432x288 with 2 Axes>"
            ]
          },
          "metadata": {
            "tags": [],
            "needs_background": "light"
          }
        }
      ]
    },
    {
      "cell_type": "code",
      "metadata": {
        "id": "mQmLs-OGKXXc",
        "colab_type": "code",
        "colab": {
          "base_uri": "https://localhost:8080/",
          "height": 295
        },
        "outputId": "4a555736-1c8d-4214-f8cf-9cdeb55a3c35"
      },
      "source": [
        "# Different optimizer\n",
        "def test_1_1(x_in, x_out, y, verb=0):\n",
        "  model = Sequential()\n",
        "\n",
        "  optimizer = optimizers.SGD(lr=0.1, momentum=0.9, nesterov=True)\n",
        "\n",
        "  model.add(Dense(10, input_dim=1, activation='sigmoid'))\n",
        "  model.add(Dense(1))\n",
        "\n",
        "  compile_fit_print(model, optimizer, x_in, x_out, y, verb)\n",
        "\n",
        "test_1_1(x_1_in, x_1_out, y_1, 0)"
      ],
      "execution_count": 177,
      "outputs": [
        {
          "output_type": "display_data",
          "data": {
            "image/png": "[encoded data removed]",
            "text/plain": [
              "<Figure size 432x288 with 2 Axes>"
            ]
          },
          "metadata": {
            "tags": [],
            "needs_background": "light"
          }
        }
      ]
    },
    {
      "cell_type": "markdown",
      "metadata": {
        "id": "BzyZm4fnLhgI",
        "colab_type": "text"
      },
      "source": [
        "## Testing various stuff for first function (sin((3*pi/2) * x))"
      ]
    },
    {
      "cell_type": "code",
      "metadata": {
        "id": "enil7r8WL3tR",
        "colab_type": "code",
        "colab": {}
      },
      "source": [
        "# Data\n",
        "x_2_in = np.linspace(0, 2, 21)\n",
        "x_2_out = np.linspace(0, 2, 161)\n",
        "y_2 = np.sin((3 * np.pi / 2) * np.linspace(0, 2, 21))"
      ],
      "execution_count": 0,
      "outputs": []
    },
    {
      "cell_type": "code",
      "metadata": {
        "id": "XinwoLiaLUbl",
        "colab_type": "code",
        "colab": {
          "base_uri": "https://localhost:8080/",
          "height": 295
        },
        "outputId": "9647eba0-b516-4eac-ab0a-03a99ded02b3"
      },
      "source": [
        "# Standard from previous list\n",
        "def test_2_0(x_in, x_out, y, verb=0):\n",
        "  model = Sequential()\n",
        "\n",
        "  optimizer = optimizers.Adam(lr=0.1)\n",
        "  model.add(Dense(10, input_dim=1, activation='tanh'))\n",
        "  model.add(Dense(1))\n",
        "\n",
        "  compile_fit_print(model, optimizer, x_in, x_out, y, verb)\n",
        "\n",
        "test_2_0(x_2_in, x_2_out, y_2, 0)"
      ],
      "execution_count": 175,
      "outputs": [
        {
          "output_type": "display_data",
          "data": {
            "image/png": "[encoded data removed]",
            "text/plain": [
              "<Figure size 432x288 with 2 Axes>"
            ]
          },
          "metadata": {
            "tags": [],
            "needs_background": "light"
          }
        }
      ]
    },
    {
      "cell_type": "code",
      "metadata": {
        "id": "kaL0ODxMEOeh",
        "colab_type": "code",
        "colab": {
          "base_uri": "https://localhost:8080/",
          "height": 295
        },
        "outputId": "4f0c3f8c-d507-4029-e632-f6af2d528f3f"
      },
      "source": [
        "# Adding lot's of layers\n",
        "def test_2_1(x_in, x_out, y, verb=0):\n",
        "  model = Sequential()\n",
        "\n",
        "  optimizer = optimizers.Adam(lr=0.1)\n",
        "  model.add(Dense(10, input_dim=1, activation='tanh'))\n",
        "  model.add(Dense(8, input_dim=1, activation='tanh'))\n",
        "  model.add(Dense(6, input_dim=1, activation='tanh'))\n",
        "  model.add(Dense(4, input_dim=1, activation='tanh'))\n",
        "  model.add(Dense(1))\n",
        "\n",
        "  compile_fit_print(model, optimizer, x_in, x_out, y, verb)\n",
        "\n",
        "test_2_1(x_2_in, x_2_out, y_2, 0)"
      ],
      "execution_count": 176,
      "outputs": [
        {
          "output_type": "display_data",
          "data": {
            "image/png": "[encoded data removed]",
            "text/plain": [
              "<Figure size 432x288 with 2 Axes>"
            ]
          },
          "metadata": {
            "tags": [],
            "needs_background": "light"
          }
        }
      ]
    },
    {
      "cell_type": "code",
      "metadata": {
        "id": "zZce_vthOaeY",
        "colab_type": "code",
        "colab": {
          "base_uri": "https://localhost:8080/",
          "height": 295
        },
        "outputId": "d9cbf444-3fb2-44f8-ec52-90b1c22c85e0"
      },
      "source": [
        "# Adding lot's of neurons\n",
        "def test_2_2(x_in, x_out, y, verb=0):\n",
        "  model = Sequential()\n",
        "\n",
        "  optimizer = optimizers.Adam(lr=0.1)\n",
        "  model.add(Dense(150, input_dim=1, activation='tanh'))\n",
        "  model.add(Dense(1))\n",
        "\n",
        "  compile_fit_print(model, optimizer, x_in, x_out, y, verb)\n",
        "\n",
        "test_2_2(x_2_in, x_2_out, y_2, 0)"
      ],
      "execution_count": 188,
      "outputs": [
        {
          "output_type": "display_data",
          "data": {
            "image/png": "[encoded data removed]",
            "text/plain": [
              "<Figure size 432x288 with 2 Axes>"
            ]
          },
          "metadata": {
            "tags": [],
            "needs_background": "light"
          }
        }
      ]
    },
    {
      "cell_type": "markdown",
      "metadata": {
        "id": "L5vlLs5mOvTI",
        "colab_type": "text"
      },
      "source": [
        "*this is actually really simple and cool, woah*\n",
        "\n",
        "*i guess machine learning / ai is a really cool respect-giving buzzword that you can learn in minutes, haha*"
      ]
    }
  ]
}